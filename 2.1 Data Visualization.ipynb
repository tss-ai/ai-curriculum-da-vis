{
 "cells": [
  {
   "cell_type": "markdown",
   "id": "9ddc7e66",
   "metadata": {},
   "source": [
    "# Data Visualization in Python\n",
    "\n",
    "Python offers multiple great graphing libraries packed with lots of different features. Whether you want to create interactive or highly customized plots, Python has an excellent library for you.\n",
    "\n",
    "To get a little overview, here are a few popular plotting libraries:\n",
    "\n",
    "- `Matplotlib`: It is the most used library for plotting in the Python community, despite having more than a decade of development. Because matplotlib was the first Python data visualization library, many other libraries are built on top of it. Some libraries like `pandas` and `Seaborn` are wrappers over `matplotlib`.\n",
    "- `Seaborn`: leverages matplotlib's ability to create aesthetic graphics in a few lines of code. The most palpable difference is Seaborn's default styles and color palettes, which are designed to be more aesthetically pleasing and modern.\n",
    "- `Pandas` plotting: allows data visualization through adaptations of the `matplotlib` library, facilitating the data aggregation and manipulation in a few lines of code.\n",
    "- `Plotly`: allows the data viusalization by interactive plots, offering additional chart configurations as contour plots, dendograms, and 3D charts.\n",
    "- `ggplot`: is based on *ggplot2* from R plotting system. `ggplot` operates differently than `matplotlib` and `seaborn`, making layers fromo its components to create a complete plot.\n",
    "- `Bokeh`: creates interactive, web-ready plots, which can be easily output as JSON objects, HTML documents, or interactive web applications, supporting streaming and real-time data.\n",
    "- `AstroPy`: is a collection of software packages written in the Python, and designed for use in astronomy.\n",
    "- `Gleam`: is inspired by R's Shiny package. It allows to turn analysis into interactive web applications using only Python scripts, avoiding the use of other languages like HTML, CSS, or JavaScript.\n",
    "- `Geoplotlib`: is a toolbox for creating maps and plotting geographical data by creating a variety of map-types, like choropleths, heatmaps, and dot density maps.\n",
    "- `Missingno`: allows to quickly gauge the completeness of a dataset with a visual summary, instead of trudging through a table."
   ]
  },
  {
   "cell_type": "markdown",
   "id": "72554e2e",
   "metadata": {},
   "source": [
    "## Matplotlib\n",
    "\n",
    "The **matplotlib** Python library, developed by **John Hunter** and many other contributors, is used to create high-quality graphs, charts, and figures. The library is extensive and capable of changing very minute details of a figure. \n",
    "\n",
    "__Some basic concepts and functions provided in matplotlib are__\n",
    "\n",
    "### Figure and axes \n",
    "The entire illustration is called a figure and each plot on it is an axes (do not confuse Axes with Axis). The figure can be thought of as a canvas on which several plots can be drawn. We obtain the figure and the axes using the `subplots()` function\n",
    "\n",
    "### Plotting\n",
    "The very first thing required to plot a graph is data. A dictionary of key-value pairs can be declared, with keys and values as the x and y values. After that, `scatter()`, `bar()`, and `pie()`, along with tons of other functions, can be used to create the plot. \n",
    "\n",
    "### Axis\n",
    "The figure and axes obtained using `subplots()` can be used for modification. Properties of the x-axis and y-axis (labels, minimum and maximum values, etc.) can be changed using `Axes.set()`"
   ]
  },
  {
   "cell_type": "markdown",
   "id": "2a0098fc",
   "metadata": {},
   "source": [
    "### Anatomy of a Figure \n",
    "\n",
    "A matplotlib visualization is a figure onto which is attached one or more axes. Each axes has a horizontal (x) axis and vertical (y) axis, and the data is encoded using color and glyphs such as markers (for example circles) or lines or polygons (called patches). The figure below annotates these parts of a visualization and was created by Nicolas P. Rougier using matplotlib. The source code can be found in the [matplotlib documentation](https://matplotlib.org/gallery/showcase/anatomy.html#sphx-glr-gallery-showcase-anatomy-py).\n",
    "![anatomy](https://matplotlib.org/stable/_images/sphx_glr_anatomy_001.png)"
   ]
  },
  {
   "cell_type": "markdown",
   "id": "8dde3723",
   "metadata": {
    "id": "c-Wt7o9Mg4tL"
   },
   "source": [
    "### Importing packages"
   ]
  },
  {
   "cell_type": "markdown",
   "id": "93b4c3ac",
   "metadata": {
    "id": "Kfz4x2wRg4tN"
   },
   "source": [
    "Just as we use the `np` shorthand for `NumPy` and the `pd` shorthand for `Pandas`, we will use the standard shorthand `plt` for the Matplotlib imports:"
   ]
  },
  {
   "cell_type": "code",
   "execution_count": null,
   "id": "b375e616",
   "metadata": {
    "id": "PThTQwUaXM-1"
   },
   "outputs": [],
   "source": [
    "import matplotlib.pyplot as plt\n",
    "import numpy as np\n",
    "import pandas as pd"
   ]
  },
  {
   "cell_type": "markdown",
   "id": "ee9607fc",
   "metadata": {
    "id": "FPp6azNrBr_o"
   },
   "source": [
    "### Loading Dataset\n"
   ]
  },
  {
   "cell_type": "code",
   "execution_count": null,
   "id": "45d7a7d2",
   "metadata": {
    "id": "wjqKN43AHWCx"
   },
   "outputs": [],
   "source": [
    "df = pd.read_csv('./data/2_1_metropolitan_areas.csv')"
   ]
  },
  {
   "cell_type": "code",
   "execution_count": null,
   "id": "176ad6f8",
   "metadata": {
    "colab": {
     "base_uri": "https://localhost:8080/",
     "height": 197
    },
    "id": "uxBgn_aWHvds",
    "outputId": "a3422dcf-89eb-41d1-d2aa-28c45b197b39",
    "scrolled": false
   },
   "outputs": [],
   "source": [
    "df.head()"
   ]
  },
  {
   "cell_type": "markdown",
   "id": "e8c8a8ca",
   "metadata": {
    "id": "lZcL-6qcqAzP"
   },
   "source": [
    "### Scatter Plot using `Matplotlib`"
   ]
  },
  {
   "cell_type": "markdown",
   "id": "c01f5373",
   "metadata": {
    "id": "3O2IawZ0g4th"
   },
   "source": [
    "- A scatter plot (aka scatter chart, scatter graph) uses dots to represent values for two different numeric variables. \n",
    "- The position of each dot on the horizontal and vertical axis indicates values for an individual data point. \n",
    "- Scatter plots are used to observe relationships between variables.\n",
    "\n",
    "To create a scatter plot in `Matplotlib` we can use the `.scatter()` method:"
   ]
  },
  {
   "cell_type": "code",
   "execution_count": null,
   "id": "2e84fdce",
   "metadata": {
    "colab": {
     "base_uri": "https://localhost:8080/",
     "height": 266
    },
    "id": "ahTQVqAMXM-6",
    "outputId": "3903a8e8-d30c-457d-b562-a81d07a806b8"
   },
   "outputs": [],
   "source": [
    "plt.scatter(df.crime_rate, df.percent_senior) # Plotting the scatter plot\n",
    "\n",
    "plt.show() # Showing the figure"
   ]
  },
  {
   "cell_type": "markdown",
   "id": "792aa08d",
   "metadata": {
    "id": "gtgMNckkg4ts"
   },
   "source": [
    "Both structures that store the values `df.crime_rate` and `df.percent_senior` must have the same size, so that the bijective relationship is maintained between each point of the independent variable $x$ with its corresponding one in the dependent variable $y$."
   ]
  },
  {
   "cell_type": "markdown",
   "id": "afef920f",
   "metadata": {
    "id": "SUYmrKoiqAza"
   },
   "source": [
    "#### Is `plt.show()` always required?\n",
    "\n",
    "1. If `Matplotlib` is used in a terminal, scripts or specialized IDEs as Spyder, Pycharm or VS Code, `plt.show()` is a must.\n",
    "\n",
    "2. If `Matplotlib` is used in a IPython shell or a notebook as Jupyter Notebook or Colab Notebook, `plt.show()` is usually unnecessary.\n",
    "\n",
    "In the following cell we are executing the same script as above, removing the `plt.show()` instruction:"
   ]
  },
  {
   "cell_type": "code",
   "execution_count": null,
   "id": "8917cf48",
   "metadata": {
    "colab": {
     "base_uri": "https://localhost:8080/",
     "height": 283
    },
    "id": "efUb9WoAqAzb",
    "outputId": "a9f0178b-9119-49e9-a0ec-d522e8ecd5c5"
   },
   "outputs": [],
   "source": [
    "# The same code block without plt.show() gives the same result in Jupyter Notebook\n",
    "plt.scatter(df.crime_rate, df.percent_senior)"
   ]
  },
  {
   "cell_type": "markdown",
   "id": "7a1ac441",
   "metadata": {
    "id": "12ffKYHdg4t7"
   },
   "source": [
    "The only difference is the inclusion of the figure output object:\n",
    "```\n",
    "<matplotlib.collections.PathCollection at 0x2589719d490>\n",
    "``` \n",
    "If you want to prevent this from being included as a cell output, use `plt.show()` at the end of each plotting instruction."
   ]
  },
  {
   "cell_type": "markdown",
   "id": "845852a3",
   "metadata": {
    "id": "f2Or7pbSg4t8"
   },
   "source": [
    "The `plt.show()` command does a lot under the hood, as it must interact with your system's interactive graphical backend. The details of this operation can vary greatly from system to system and even installation to installation, but matplotlib does its best to hide all these details from you. "
   ]
  },
  {
   "cell_type": "markdown",
   "id": "75381b2f",
   "metadata": {
    "id": "J5lJlZl_qAz0"
   },
   "source": [
    "#### Adding titles and labels"
   ]
  },
  {
   "cell_type": "markdown",
   "id": "7663379f",
   "metadata": {
    "id": "QyGTsZzQg4uh"
   },
   "source": [
    "Visualizing the data through plotting for better interpretation is an indispensable practice. However, the graphics must express the full story. To express this story, it is necessary to add labels that indicate what is being plotted, where and what it represents. We do this by including data labels, axis labels, and titles."
   ]
  },
  {
   "cell_type": "code",
   "execution_count": null,
   "id": "a8ca44e6",
   "metadata": {
    "colab": {
     "base_uri": "https://localhost:8080/",
     "height": 295
    },
    "id": "MMlMW_8fXM_A",
    "outputId": "882ee047-a337-4a67-a596-cbc651f13344",
    "scrolled": false
   },
   "outputs": [],
   "source": [
    "plt.scatter(df.percent_senior, df.crime_rate)\n",
    "\n",
    "plt.title('Plot of Crime Rate vs Percent Senior') # Adding a title to the plot\n",
    "plt.xlabel(\"Percent Senior\") # Adding the label for the horizontal axis\n",
    "plt.ylabel(\"Crime Rate\") # Adding the label for the vertical axis\n",
    "plt.show()"
   ]
  },
  {
   "cell_type": "markdown",
   "id": "003786eb",
   "metadata": {
    "id": "1LhHzcIuqAzh"
   },
   "source": [
    "### Line Chart using `Matplotlib`"
   ]
  },
  {
   "cell_type": "markdown",
   "id": "247c2789",
   "metadata": {
    "id": "uGWZ1Yv9g4uF"
   },
   "source": [
    "A line chart is used to represent data over a continuous time span. It is generally used to show trend of a measure (or a variable) over time. Data values are plotted as points that are connected using line segments.\n",
    "\n",
    "In Matplotlib we can create a line chart by calling the plot method.\n",
    "\n",
    "`plot()` is a versatile command, and will take an arbitrary number of arguments."
   ]
  },
  {
   "cell_type": "code",
   "execution_count": null,
   "id": "2aebdacd",
   "metadata": {
    "colab": {
     "base_uri": "https://localhost:8080/",
     "height": 279
    },
    "id": "KAQO5fETXM-9",
    "outputId": "ee461259-ecad-4ad1-c43b-772ad1d6d5f1"
   },
   "outputs": [],
   "source": [
    "plt.plot(df.work_force, df.income) # 2 arguments: X and Y points\n",
    "plt.xlabel(\"Work Force\") # Adding the label for the horizontal axis\n",
    "plt.ylabel(\"Income\")\n",
    "plt.show()"
   ]
  },
  {
   "cell_type": "markdown",
   "id": "6efcc65e",
   "metadata": {
    "id": "YgH_As-dg4uT"
   },
   "source": [
    "Because it is a line chart, `matplotlib` automatically draws a line to connect each pair of consecutive points that represent Cartesian coordinates on the graph. We can also make a graph with a single input argument:"
   ]
  },
  {
   "cell_type": "code",
   "execution_count": null,
   "id": "dc4dbc3c",
   "metadata": {
    "colab": {
     "base_uri": "https://localhost:8080/",
     "height": 264
    },
    "id": "BT8zlIiHqAzq",
    "outputId": "09e986c2-a270-41c5-c30f-7496a981ab6b"
   },
   "outputs": [],
   "source": [
    "plt.plot([1, 2, 3, 4]) # 1 argument\n",
    "plt.show()"
   ]
  },
  {
   "cell_type": "markdown",
   "id": "40ea9de9",
   "metadata": {
    "id": "DH8hXrxJqAzz"
   },
   "source": [
    "You may be wondering why the x-axis ranges from 0-3 and the y-axis from 1-4. If you provide a single list or array of $n$ elements to the `.plot()` function, `matplotlib` will assume it is a sequence of $y$ values, and **automatically generates the $x$ values for you** as a range of $n$ elements starting from 0. Since python ranges start with 0, the default $x$ vector has the same length as $y$. Hence the $x$ data will be [0,1,2,3]."
   ]
  },
  {
   "cell_type": "markdown",
   "id": "7d1fdb4a",
   "metadata": {
    "id": "m-bZ8MgaqAz-"
   },
   "source": [
    "#### Changing the size of the plot"
   ]
  },
  {
   "cell_type": "markdown",
   "id": "6530e18a",
   "metadata": {
    "id": "1RFRKffSg4vK"
   },
   "source": [
    "You may have noticed that there is a lot of space in the width to show the graph and `matplotlib` has shown it in a small space of our notebook. The size of the figure that contains the graph can be varied with the `figsize` argument as follows:\n",
    "\n",
    "```\n",
    "plt.figure(figsize=(new_width_pixels, new_height_pixels))\n",
    "```\n",
    "\n",
    "Let's look at this example:"
   ]
  },
  {
   "cell_type": "code",
   "execution_count": null,
   "id": "3d6e63b3",
   "metadata": {
    "colab": {
     "base_uri": "https://localhost:8080/",
     "height": 333
    },
    "id": "gL-Gdu-1XM_D",
    "outputId": "fbb53c9b-5f27-4ec8-e63b-7bae2abe0ed7"
   },
   "outputs": [],
   "source": [
    "plt.figure(figsize=(12,5)) # 12x5 plot\n",
    "\n",
    "plt.plot(df.work_force, df.income) \n",
    "plt.xlabel(\"Work Force\") \n",
    "plt.ylabel(\"Income\")\n",
    "plt.show()"
   ]
  },
  {
   "cell_type": "markdown",
   "id": "9629b505",
   "metadata": {
    "id": "IuScMzd1qA0G"
   },
   "source": [
    "#### Formatting the style of your plot"
   ]
  },
  {
   "cell_type": "markdown",
   "id": "0fad6d47",
   "metadata": {
    "id": "JNK1WMuz-ZdJ"
   },
   "source": [
    "Specify the keyword args linestyle and/or marker in your call to plot.\n",
    "\n",
    "For example, using a dashed line and red circle markers:"
   ]
  },
  {
   "cell_type": "code",
   "execution_count": null,
   "id": "1e16eafe",
   "metadata": {
    "colab": {
     "base_uri": "https://localhost:8080/",
     "height": 279
    },
    "id": "1UmC3WDt-a06",
    "outputId": "57264994-e918-4f27-8fea-e793e29cd82d"
   },
   "outputs": [],
   "source": [
    "plt.plot(df.work_force, df.income, linestyle='--', marker='o', color='r')\n",
    "plt.xlabel(\"Work Force\") \n",
    "plt.ylabel(\"Income\")\n",
    "plt.show()"
   ]
  },
  {
   "cell_type": "markdown",
   "id": "40f2f7bf",
   "metadata": {
    "id": "fOqQdA_zqA0I"
   },
   "source": [
    "#### A shortcut for the above\n",
    "\n",
    "For every x, y pair of arguments, there is an optional third argument which is the format string that indicates the color and line type of the plot. The letters and symbols of the format string are from MATLAB, and you concatenate a color string with a line style string. The default format string is 'b-', which is a solid blue line. "
   ]
  },
  {
   "cell_type": "code",
   "execution_count": null,
   "id": "d70f510c",
   "metadata": {
    "colab": {
     "base_uri": "https://localhost:8080/",
     "height": 279
    },
    "id": "yYzjma83qA0K",
    "outputId": "7089162e-31ea-4818-d22f-08c4cca7f253"
   },
   "outputs": [],
   "source": [
    "plt.plot(df.work_force, df.income, '--ro')  # ro = red circles\n",
    "plt.xlabel(\"Work Force\") \n",
    "plt.ylabel(\"Income\")\n",
    "plt.show()"
   ]
  },
  {
   "cell_type": "markdown",
   "id": "b4270363",
   "metadata": {
    "id": "FsP3I73R-l-Q"
   },
   "source": [
    "It turns out that the plot function can produce scatter plots as well"
   ]
  },
  {
   "cell_type": "code",
   "execution_count": null,
   "id": "62bf24d1",
   "metadata": {
    "colab": {
     "base_uri": "https://localhost:8080/",
     "height": 264
    },
    "id": "M1r5ccrb-nuk",
    "outputId": "b4dbb15a-ea81-4d71-cbc9-7bb7114e7599"
   },
   "outputs": [],
   "source": [
    "plt.plot(df.work_force, df.income, 'ro') # ro = red circles\n",
    "plt.show()"
   ]
  },
  {
   "cell_type": "code",
   "execution_count": null,
   "id": "4f488aa3",
   "metadata": {
    "colab": {
     "base_uri": "https://localhost:8080/",
     "height": 264
    },
    "id": "mtgTK-THXM_G",
    "outputId": "17b89615-c5aa-4e99-85be-601d216d34e1"
   },
   "outputs": [],
   "source": [
    "plt.plot(df.work_force, df.income, \"gx\") # gx = green x\n",
    "plt.show()"
   ]
  },
  {
   "cell_type": "markdown",
   "id": "9b604705",
   "metadata": {
    "id": "agini_RYg4vr"
   },
   "source": [
    "There are plenty of other options. You can try the following:\n",
    "\n",
    "```\n",
    "plt.plot(df.work_force, df.income, \"go\") # green circles\n",
    "plt.plot(df.work_force, df.income, \"g^\") # green traingles\n",
    "plt.plot(df.work_force, df.income, \"ro\") # red circles\n",
    "plt.plot(df.work_force, df.income, \"rx\") # red x symbol\n",
    "plt.plot(df.work_force, df.income, \"b^\") # red ^ symbol\n",
    "plt.plot(df.work_force, df.income, \"go--\", linewidth=3) # green circles and dashed lines of width 3.\n",
    "```"
   ]
  },
  {
   "cell_type": "markdown",
   "id": "22da43c3",
   "metadata": {
    "id": "C0BqyD82qA0k"
   },
   "source": [
    "### Plotting consecutive plots using `Matplotlib` "
   ]
  },
  {
   "cell_type": "markdown",
   "id": "8f76eb67",
   "metadata": {
    "id": "5AdCy4x6g4v4"
   },
   "source": [
    "Plotting data on multiple consecutive figures can be done by calling the corresponding graphing functions and displaying each figure consecutively:"
   ]
  },
  {
   "cell_type": "code",
   "execution_count": null,
   "id": "d4d14daa",
   "metadata": {
    "colab": {
     "base_uri": "https://localhost:8080/",
     "height": 513
    },
    "id": "hBANP3F-g4u7",
    "outputId": "ab6397d6-8e6b-4b7b-cf8c-0b9a91820b80"
   },
   "outputs": [],
   "source": [
    "plt.plot(df.work_force, df.income, color=\"r\") \n",
    "plt.show()\n",
    "plt.plot(df.physicians, df.income) \n",
    "plt.show()"
   ]
  },
  {
   "cell_type": "markdown",
   "id": "530e6a1a",
   "metadata": {
    "id": "yzhF5miAqA02"
   },
   "source": [
    "What happens if you don't use `plt.show()` after the first figure? Both variables will be plotted in the same figure:"
   ]
  },
  {
   "cell_type": "markdown",
   "id": "3772bcf7",
   "metadata": {
    "id": "KWBAtkc6g4u4"
   },
   "source": [
    "#### Adding a Legend\n",
    "\n",
    "A legend is an area describing the elements of the graph. In the `matplotlib` library, there’s a function called `.legend()` which is used to place a legend on the axes, as follows:"
   ]
  },
  {
   "cell_type": "code",
   "execution_count": null,
   "id": "136aa6de",
   "metadata": {
    "colab": {
     "base_uri": "https://localhost:8080/",
     "height": 264
    },
    "id": "Pdx3kDiXXM_N",
    "outputId": "f08b4a06-1f26-4910-c511-8952808e2e7f"
   },
   "outputs": [],
   "source": [
    "#Instead of creating a separate image for points2, it displays both the plots in the same figure \n",
    "# (both share the same axes)\n",
    "plt.plot(df.work_force, df.income, color=\"r\", label = 'work_force') \n",
    "plt.plot(df.physicians, df.income, label='physicians') \n",
    "\n",
    "# Adding a legend\n",
    "plt.legend()\n",
    "\n",
    "plt.show()"
   ]
  },
  {
   "cell_type": "markdown",
   "id": "11f3ac71",
   "metadata": {
    "id": "fGfDhL0QXM_Q"
   },
   "source": [
    "### Multiple plots in one figure using `Matplotlib`\n",
    "We can make multiple graphics in one figure. This goes very well for comparing charts or for sharing data from several types of charts easily with a single image.\n",
    "\n",
    "The `.subplot()` method is used to add multiple plots in one figure. It takes three arguments: \n",
    "1. `nrows`: number of rows in the figure\n",
    "2. `ncols`: number of columns in the figure\n",
    "3. `index`: index of the plot\n",
    "\n",
    "Let's see how variables are plotted with different row and column configurations in the figures."
   ]
  },
  {
   "cell_type": "markdown",
   "id": "a808e231",
   "metadata": {
    "id": "fz29wWQnqA0_"
   },
   "source": [
    "#### 1 row and 2 columns"
   ]
  },
  {
   "cell_type": "code",
   "execution_count": null,
   "id": "5e8441b8",
   "metadata": {
    "colab": {
     "base_uri": "https://localhost:8080/",
     "height": 294
    },
    "id": "7NUKqHsIXM_R",
    "outputId": "e463aad0-f039-42b4-d4c9-83130f56df99"
   },
   "outputs": [],
   "source": [
    "plt.subplot(1,2,1)  # row, column, index\n",
    "plt.plot(df.work_force, df.income, \"go\")\n",
    "plt.title(\"Income vs Work Force\")\n",
    "\n",
    "## plt.subplot(1,2,2) # row, column, index\n",
    "plt.subplot(1,2,2).label_outer()\n",
    "\n",
    "plt.plot(df.hospital_beds, df.income, \"r^\")\n",
    "plt.title(\"Income vs Hospital Beds\")\n",
    "\n",
    "plt.suptitle(\"Sub Plots\") # Add a centered title to the figure.\n",
    "plt.show()"
   ]
  },
  {
   "cell_type": "markdown",
   "id": "65e4bb4d",
   "metadata": {
    "id": "kZu8F9LYqA1H"
   },
   "source": [
    "#### 2 rows and 1 column"
   ]
  },
  {
   "cell_type": "code",
   "execution_count": null,
   "id": "039501ba",
   "metadata": {
    "colab": {
     "base_uri": "https://localhost:8080/",
     "height": 294
    },
    "id": "u62bOx6sXM_T",
    "outputId": "e19ad76e-f9f7-4662-c49d-4d2dfe62c7ba"
   },
   "outputs": [],
   "source": [
    "plt.subplot(2,1,1) # row, column, index\n",
    "plt.plot(df.work_force, df.income, \"go\")\n",
    "\n",
    "plt.subplot(2,1,2) # row, column, index\n",
    "plt.plot(df.hospital_beds, df.income, \"r^\")\n",
    "\n",
    "plt.suptitle(\"Sub Plots\")\n",
    "plt.show()"
   ]
  },
  {
   "cell_type": "markdown",
   "id": "a9e1a4b9",
   "metadata": {
    "id": "0f5HvLsHqA1U"
   },
   "source": [
    "#### 2 rows and 2 columns"
   ]
  },
  {
   "cell_type": "code",
   "execution_count": null,
   "id": "16f56ff8",
   "metadata": {
    "colab": {
     "base_uri": "https://localhost:8080/",
     "height": 374
    },
    "id": "bvLq_xMHXM_W",
    "outputId": "9e46c3ab-3c62-4726-dce7-7d2d99146124"
   },
   "outputs": [],
   "source": [
    "fig, ax = plt.subplots(nrows=2, ncols=2, figsize=(8,8)) #creating a grid of 2 rows, 2 columns and 8x8 figure size\n",
    "ax[0,0].plot(df.work_force, df.income, \"go\") # The top-left axes\n",
    "ax[0,1].plot(df.work_force, df.income, \"bo\") # The top-right axes\n",
    "ax[1,0].plot(df.work_force, df.income, \"yo\") # The bottom-left axes\n",
    "ax[1,1].plot(df.work_force, df.income, \"ro\") # The bottom-right axes\n",
    "\n",
    "plt.suptitle(\"Sub Plots\")\n",
    "\n",
    "plt.show()"
   ]
  },
  {
   "cell_type": "markdown",
   "id": "d4ff67f1",
   "metadata": {},
   "source": [
    "### Saving Figures\n",
    "\n",
    "As the plot is gone as soon as we close the figure window, we usually want to save our figure, e.g., as a PDF:"
   ]
  },
  {
   "cell_type": "code",
   "execution_count": null,
   "id": "1e234f83",
   "metadata": {},
   "outputs": [],
   "source": [
    "fig.savefig(\"my_plot.pdf\", dpi=120)\n",
    "# or, if you didn't use the fig = plt.subplots() command:\n",
    "# plt.savefig(\"my_plot.pdf\", dpi=120)"
   ]
  },
  {
   "cell_type": "markdown",
   "id": "f915bb1d",
   "metadata": {},
   "source": [
    "In savefig(), the file format is inferred from the extension of the given filename. Depending on what backends you have installed, many different file formats are available. The list of supported file types can be found for your system by using the following method of the figure canvas object:"
   ]
  },
  {
   "cell_type": "code",
   "execution_count": null,
   "id": "6bb9e06b",
   "metadata": {},
   "outputs": [],
   "source": [
    "fig.canvas.get_supported_filetypes()"
   ]
  },
  {
   "cell_type": "markdown",
   "id": "74587f17",
   "metadata": {},
   "source": [
    "### Two Interfaces for the Price of One\n",
    "\n",
    "A potentially confusing feature of Matplotlib is its dual interfaces: a convenient MATLAB-style state-based interface, and a more powerful object-oriented interface. We'll quickly highlight the differences between the two here."
   ]
  },
  {
   "cell_type": "markdown",
   "id": "6f92f34f",
   "metadata": {},
   "source": [
    "#### MATLAB-style Interface\n",
    "\n",
    "Matplotlib was originally written as a Python alternative for MATLAB users, and much of its syntax reflects that fact.\n",
    "The MATLAB-style tools are contained in the pyplot (``plt``) interface.\n",
    "For example, the following code will probably look quite familiar to MATLAB users:"
   ]
  },
  {
   "cell_type": "code",
   "execution_count": null,
   "id": "d5183611",
   "metadata": {},
   "outputs": [],
   "source": [
    "x = np.linspace(0, 10, 100)\n",
    "\n",
    "plt.figure()  # create a plot figure\n",
    "\n",
    "# create the first of two panels and set current axis\n",
    "plt.subplot(2, 1, 1) # (rows, columns, panel number)\n",
    "plt.plot(x, np.sin(x))\n",
    "\n",
    "# create the second panel and set current axis\n",
    "plt.subplot(2, 1, 2)\n",
    "plt.plot(x, np.cos(x))"
   ]
  },
  {
   "cell_type": "markdown",
   "id": "e506da9a",
   "metadata": {},
   "source": [
    "It is important to note that this interface is *stateful*: it keeps track of the \"current\" figure and axes, which are where all ``plt`` commands are applied.\n",
    "You can get a reference to these using the ``plt.gcf()`` (get current figure) and ``plt.gca()`` (get current axes) routines.\n",
    "\n",
    "While this stateful interface is fast and convenient for simple plots, it is easy to run into problems.\n",
    "For example, once the second panel is created, how can we go back and add something to the first?\n",
    "This is possible within the MATLAB-style interface, but a bit clunky.\n",
    "Fortunately, there is a better way."
   ]
  },
  {
   "cell_type": "markdown",
   "id": "f8f02828",
   "metadata": {},
   "source": [
    "#### Object-oriented interface\n",
    "\n",
    "The object-oriented interface is available for these more complicated situations, and for when you want more control over your figure.\n",
    "Rather than depending on some notion of an \"active\" figure or axes, in the object-oriented interface the plotting functions are *methods* of explicit ``Figure`` and ``Axes`` objects.\n",
    "To re-create the previous plot using this style of plotting, you might do the following:"
   ]
  },
  {
   "cell_type": "code",
   "execution_count": null,
   "id": "3b045367",
   "metadata": {},
   "outputs": [],
   "source": [
    "# First create a grid of plots\n",
    "# ax will be an array of two Axes objects\n",
    "fig, ax = plt.subplots(2)\n",
    "\n",
    "# Call plot() method on the appropriate object\n",
    "ax[0].plot(x, np.sin(x))\n",
    "ax[1].plot(x, np.cos(x))"
   ]
  },
  {
   "cell_type": "markdown",
   "id": "ccca5c94",
   "metadata": {
    "id": "cruYYRKFXM_q"
   },
   "source": [
    "## Seaborn\n",
    "\n",
    "`Seaborn` is a Python data visualization library based on `Matplotlib`. It provides a high-level interface for creating attractive graphs, and statistical data visualization. \n",
    "\n",
    "Seaborn has a lot to offer. You can create graphs in one line that would take you multiple tens of lines in `Matplotlib`. Its standard designs are awesome and it also has a nice interface for working with pandas dataframes.\n",
    "\n",
    "In the following sections we will review how to graph with `seaborn`"
   ]
  },
  {
   "cell_type": "markdown",
   "id": "ee12f329",
   "metadata": {
    "id": "vZchNoVRqA2T"
   },
   "source": [
    "### Importing seaborn"
   ]
  },
  {
   "cell_type": "code",
   "execution_count": null,
   "id": "c11cd769",
   "metadata": {
    "colab": {
     "base_uri": "https://localhost:8080/",
     "height": 51
    },
    "id": "2RkOVu34qA2U",
    "outputId": "e3d009f1-f1a4-4dd8-9156-b7354a70c24e",
    "scrolled": true
   },
   "outputs": [],
   "source": [
    "import seaborn as sns"
   ]
  },
  {
   "cell_type": "code",
   "execution_count": null,
   "id": "2be1d510",
   "metadata": {
    "colab": {
     "base_uri": "https://localhost:8080/",
     "height": 346
    },
    "id": "2tpJk49BXM_q",
    "outputId": "bcdb909b-2323-4db6-bf5d-32d061ed3607"
   },
   "outputs": [],
   "source": [
    "# Load iris data\n",
    "df_iris = sns.load_dataset(\"iris\")\n",
    "\n",
    "df_iris.sample(10)"
   ]
  },
  {
   "cell_type": "markdown",
   "id": "71f7df78",
   "metadata": {
    "id": "DlQilpP0qA2n"
   },
   "source": [
    "### Scatter Plot using `Seaborn`"
   ]
  },
  {
   "cell_type": "code",
   "execution_count": null,
   "id": "9080f4cb",
   "metadata": {
    "colab": {
     "base_uri": "https://localhost:8080/",
     "height": 282
    },
    "id": "lZQav-PwXM_1",
    "outputId": "8fa847be-4297-45d3-df40-d5f34607e110"
   },
   "outputs": [],
   "source": [
    "sns.scatterplot(x='sepal_length', y='sepal_width', data=df_iris)\n",
    "plt.show()"
   ]
  },
  {
   "cell_type": "markdown",
   "id": "163e9205",
   "metadata": {
    "id": "dsDMoRZlqA2j"
   },
   "source": [
    "### Swarm Plot using `Seaborn`"
   ]
  },
  {
   "cell_type": "code",
   "execution_count": null,
   "id": "9c277997",
   "metadata": {
    "colab": {
     "base_uri": "https://localhost:8080/",
     "height": 279
    },
    "id": "6lvOpwZoXM_u",
    "outputId": "ad49bec7-703d-4323-b535-402514cecf6e"
   },
   "outputs": [],
   "source": [
    "# Construct swarm plot for sepcies vs petal_length\n",
    "sns.swarmplot(x=\"species\", y=\"petal_length\", data=df_iris, size=4)\n",
    "\n",
    "# Show plot\n",
    "plt.show()"
   ]
  },
  {
   "cell_type": "markdown",
   "id": "de84003b",
   "metadata": {
    "id": "BvBEKDMwqA2t"
   },
   "source": [
    "### Heatmap using `Seaborn`"
   ]
  },
  {
   "cell_type": "markdown",
   "id": "e3ac1c2e",
   "metadata": {
    "id": "oqDG_LsUqA2u"
   },
   "source": [
    "A Heatmap is a graphical representation of data where the individual values contained in a matrix are represented as colors.\n",
    "\n",
    "Seaborn heatmaps are appealing to the eyes, and they tend to send clear messages about data almost immediately. This is why this method for correlation matrix visualization ( exploring the correlation of features in a dataset) is widely used by data analysts and data scientists alike.\n",
    "\n",
    "Correlation is a measure of the strength of a linear relationship between two quantitative variables. \n",
    "(We'll study more about correlation in the upcoming week)\n",
    "\n",
    "To get the correlation of the features inside a dataset we can call <dataset>.corr(), which is a Pandas dataframe method. This will give us the correlation matrix."
   ]
  },
  {
   "cell_type": "code",
   "execution_count": null,
   "id": "aaff656a",
   "metadata": {
    "colab": {
     "base_uri": "https://localhost:8080/",
     "height": 269
    },
    "id": "3HgTdZRKqA2v",
    "outputId": "c70c6bdf-976d-4a81-d15a-82946969fd25"
   },
   "outputs": [],
   "source": [
    "# Correlation matrix completely ignores any non-numeric column. \n",
    "sns.heatmap(df_iris.corr(), annot=True)\n",
    "plt.show()"
   ]
  },
  {
   "cell_type": "markdown",
   "id": "b3693b9d",
   "metadata": {
    "id": "AK1QAkGPwmBV"
   },
   "source": [
    "- Each square shows the correlation between the variables on each axis. \n",
    "- Correlation ranges from -1 to +1. \n",
    "- Values closer to zero means there is no linear trend between the two variables. \n",
    "- The more close to 1 the correlation is the more positively correlated they are; that is as one increases so does the other. \n",
    "- A correlation closer to -1 is similar, but instead of both increasing one variable will decrease as the other increases."
   ]
  },
  {
   "cell_type": "markdown",
   "id": "feb73d58",
   "metadata": {},
   "source": [
    "## Plotly\n",
    "\n",
    "The `plotly.express` module (usually imported as px) contains functions that can create entire figures at once, and is referred to as Plotly Express or PX. Plotly Express is a built-in part of the plotly library, and is the recommended starting point for creating most common figures.\n",
    "\n",
    "Plotly Express provides more than 30 functions for creating different types of figures. The API for these functions was carefully designed to be as consistent and easy to learn as possible, making it easy to switch from a scatter plot to a bar chart to a histogram to a sunburst chart throughout a data exploration session. Scroll down for a gallery of Plotly Express plots, each made in a single function call."
   ]
  },
  {
   "cell_type": "code",
   "execution_count": null,
   "id": "d9fb889d",
   "metadata": {
    "scrolled": false
   },
   "outputs": [],
   "source": [
    "import plotly.express as px\n",
    "\n",
    "df_iris = px.data.iris()\n",
    "fig = px.scatter_matrix(df, dimensions=[\"sepal_width\", \"sepal_length\", \"petal_width\", \"petal_length\"], color=\"species\")\n",
    "fig.show()"
   ]
  },
  {
   "cell_type": "code",
   "execution_count": null,
   "id": "dabd7493",
   "metadata": {},
   "outputs": [],
   "source": [
    "fig = px.scatter_3d(df, x='sepal_length', y='sepal_width', z='petal_width',\n",
    "              color='species')\n",
    "fig.show()"
   ]
  },
  {
   "cell_type": "markdown",
   "id": "ad85b5e5",
   "metadata": {
    "id": "smQYW58WfXer"
   },
   "source": [
    "## Appendix"
   ]
  },
  {
   "cell_type": "markdown",
   "id": "3a43cbed",
   "metadata": {
    "id": "bomCmrO3XM_Y"
   },
   "source": [
    "### Bar Chart using `Matplotlib` \n",
    "\n",
    "Bar charts are one of the most common types of graphs and are used to show data associated with the categorical variables.\n",
    "\n",
    "`Pyplot` provides a `bar()` method to make bar graphs which take the following arguments: categorical variables, their values and color (if you want to specify any). Let's see some ways to display a bar graph with `matplotlib`:"
   ]
  },
  {
   "cell_type": "markdown",
   "id": "b8c6178a",
   "metadata": {
    "id": "0Yv0p6G7qA1g"
   },
   "source": [
    "####  Vertical Bar Charts"
   ]
  },
  {
   "cell_type": "code",
   "execution_count": null,
   "id": "058cc980",
   "metadata": {
    "colab": {
     "base_uri": "https://localhost:8080/",
     "height": 295
    },
    "id": "vepzkE6wXM_Z",
    "outputId": "8f9690d6-d191-4aa1-b498-6b6fecd1f102"
   },
   "outputs": [],
   "source": [
    "plt.bar(df.region, df.crime_rate, color=\"green\")\n",
    "\n",
    "plt.title(\"Bar Graph\")\n",
    "plt.xlabel(\"Region\")\n",
    "plt.ylabel(\"Crime Rate\")\n",
    "plt.show()"
   ]
  },
  {
   "cell_type": "markdown",
   "id": "94f03f4b",
   "metadata": {
    "id": "cSVr546LqA1n"
   },
   "source": [
    "#### Horizontal Bar Charts"
   ]
  },
  {
   "cell_type": "markdown",
   "id": "e541c87e",
   "metadata": {
    "id": "s1wI36WOqA1o"
   },
   "source": [
    "It’s also really simple to make a horizontal bar-chart using the plot.barh() method."
   ]
  },
  {
   "cell_type": "code",
   "execution_count": null,
   "id": "8a3d5434",
   "metadata": {
    "colab": {
     "base_uri": "https://localhost:8080/",
     "height": 280
    },
    "id": "HIDWcbB-XM_b",
    "outputId": "e19785e3-dcc2-4c9e-c846-655a361dd663"
   },
   "outputs": [],
   "source": [
    "plt.barh(df.region, df.crime_rate, color=\"green\")\n",
    "plt.title(\"Bar Graph\")\n",
    "plt.show()"
   ]
  },
  {
   "cell_type": "markdown",
   "id": "472c46fb",
   "metadata": {
    "id": "zVU6J5RGqA1w"
   },
   "source": [
    "####  Bar Charts with multiple quantities"
   ]
  },
  {
   "cell_type": "markdown",
   "id": "3faf8cdf",
   "metadata": {
    "id": "4zEEGcvEqA1x"
   },
   "source": [
    "When comparing several quantities and when changing one variable, we might want a bar chart where we have bars of one color for one quantity value.\n",
    "\n",
    "We can plot multiple bar charts by playing with the thickness and the positions of the bars."
   ]
  },
  {
   "cell_type": "code",
   "execution_count": null,
   "id": "66d2654b",
   "metadata": {
    "colab": {
     "base_uri": "https://localhost:8080/",
     "height": 295
    },
    "id": "MB0aTBfoXM_e",
    "outputId": "6eb077a0-388b-4b76-e07b-42f71895da42"
   },
   "outputs": [],
   "source": [
    "divisions = [\"A\", \"B\", \"C\", \"D\", \"E\"]\n",
    "division_avg = [70, 82, 73, 65, 68]\n",
    "boys_avg = [68, 67, 77, 61, 70]\n",
    "\n",
    "# Using the NumPy arange function to generate values for index between 0-4.\n",
    "# Here,stop is 5, start is 0, and step is 1\n",
    "index = np.arange(5) \n",
    "width = 0.30\n",
    "\n",
    "plt.bar(index, division_avg, width, color=\"green\", label=\"Division Marks\")\n",
    "plt.bar(index+width, boys_avg, width, color=\"blue\", label=\"Boys Marks\")\n",
    "\n",
    "plt.title(\"Bar Graph\")\n",
    "plt.xlabel(\"Divisions\")\n",
    "plt.ylabel(\"Marks\")\n",
    "plt.show()"
   ]
  },
  {
   "cell_type": "markdown",
   "id": "6f1c0ecf",
   "metadata": {
    "id": "hgBp9bs-qA14"
   },
   "source": [
    "####  Stacked Bar Chart"
   ]
  },
  {
   "cell_type": "markdown",
   "id": "210392a8",
   "metadata": {
    "id": "XSQTQkJHqA17"
   },
   "source": [
    "The stacked bar chart stacks bars that represent different groups on top of each other. The height of the resulting bar shows the combined result of the groups.\n",
    "\n",
    "The optional bottom parameter of the pyplot.bar() function allows you to specify a starting value for a bar. Instead of running from zero to a value, it will go from the bottom to the value. The first call to pyplot.bar() plots the blue bars. The second call to pyplot.bar() plots the green bars, with the bottom of the blue bars being at the top of the green bars."
   ]
  },
  {
   "cell_type": "code",
   "execution_count": null,
   "id": "bcb8d375",
   "metadata": {
    "colab": {
     "base_uri": "https://localhost:8080/",
     "height": 295
    },
    "id": "5KUmyUHKXM_h",
    "outputId": "10e6b02a-1a5e-4363-ca5d-31b413f0fa58"
   },
   "outputs": [],
   "source": [
    "divisions = [\"A\", \"B\", \"C\", \"D\", \"E\"]\n",
    "girls_avg = [72, 97, 69, 69, 66]\n",
    "boys_avg = [68, 67, 77, 61, 70]\n",
    "\n",
    "index = np.arange(5)\n",
    "width = 0.50\n",
    "\n",
    "plt.bar(index, boys_avg, width, color=\"green\", label=\"Boys Marks\")\n",
    "plt.bar(index, girls_avg, width, color=\"blue\", label=\"Girls Marks\", bottom=boys_avg)\n",
    "\n",
    "plt.title(\"Bar Graph\")\n",
    "plt.xlabel(\"Divisions\")\n",
    "plt.ylabel(\"Marks\")\n",
    "plt.show()"
   ]
  },
  {
   "cell_type": "markdown",
   "id": "36eb37a4",
   "metadata": {
    "id": "Ar-8zmQ8XM_j"
   },
   "source": [
    "### Pie Chart using `Matplotlib`\n",
    "One more basic type of chart is a Pie chart which can be made using the method pie().\n",
    "\n",
    "Pie charts show the size of items (called wedge) in one data series, proportional to the sum of the items. The data points in a pie chart are shown as a percentage of the whole pie\n",
    "\n",
    "Parameters of a pie chart:\n",
    "- x: array-like. The wedge sizes.\n",
    "- labels: list. A sequence of strings providing the labels for each wedge.\n",
    "- Colors: A sequence of matplotlibcolorargs through which the pie chart will cycle. If None, will use the colors in the currently active cycle.\n",
    "- Autopct: string, used to label the wedges with their numeric value. The label will be placed inside the wedge. The format string will be fmt%pct.\n",
    "\n",
    "We can also pass in arguments to customize our Pie chart to show shadow, explode a part of it, tilt it at an angle as follows:"
   ]
  },
  {
   "cell_type": "code",
   "execution_count": null,
   "id": "e0bb180c",
   "metadata": {
    "colab": {
     "base_uri": "https://localhost:8080/",
     "height": 250
    },
    "id": "Lv8yMWLWXM_k",
    "outputId": "01690e27-9517-47df-a694-f7f72ecfaa90"
   },
   "outputs": [],
   "source": [
    "firms = [\"Firm A\", \"Firm B\", \"Firm C\", \"Firm D\", \"Firm E\"]\n",
    "market_share = [20,25,15,10,20]\n",
    "\n",
    "# Explode the pie chart to emphasize a certain part or some parts( Firm B in this case) \n",
    "# It is useful because it makes the highlighted portion more visible.\n",
    "Explode = [0,0.1,0,0,0] \n",
    "\n",
    "plt.pie(market_share, explode=Explode, labels=firms, autopct='%1.1f%%', startangle=45)\n",
    "\n",
    "plt.axis('equal') # Equal aspect ratio ensures that pie is drawn as a circle.\n",
    "\n",
    "plt.legend(title=\"List of Firms\")\n",
    "\n",
    "plt.show()"
   ]
  },
  {
   "cell_type": "code",
   "execution_count": null,
   "id": "65e73546",
   "metadata": {},
   "outputs": [],
   "source": []
  }
 ],
 "metadata": {
  "kernelspec": {
   "display_name": "Python 3 (ipykernel)",
   "language": "python",
   "name": "python3"
  },
  "language_info": {
   "codemirror_mode": {
    "name": "ipython",
    "version": 3
   },
   "file_extension": ".py",
   "mimetype": "text/x-python",
   "name": "python",
   "nbconvert_exporter": "python",
   "pygments_lexer": "ipython3",
   "version": "3.9.15"
  }
 },
 "nbformat": 4,
 "nbformat_minor": 5
}
